{
 "cells": [
  {
   "cell_type": "markdown",
   "metadata": {},
   "source": [
    "# Just generate some names\n",
    "\n",
    "This is the follow-up to the miusic.ipynb. In that notebook we use Keras to train our neural network, and store the results in the `variables/` folder. We now use those results to make predictions and whatnot."
   ]
  },
  {
   "cell_type": "code",
   "execution_count": 31,
   "metadata": {},
   "outputs": [
    {
     "name": "stdout",
     "output_type": "stream",
     "text": [
      "/home/goznalo/Programming/Python/musicnames/artists.csv\n",
      "/home/goznalo/Programming/Python/musicnames/miusic.ipynb\n",
      "/home/goznalo/Programming/Python/musicnames/Untitled.ipynb\n",
      "/home/goznalo/Programming/Python/musicnames/.gitattributes\n",
      "/home/goznalo/Programming/Python/musicnames/generator.ipynb\n",
      "/home/goznalo/Programming/Python/musicnames/README.md\n",
      "/home/goznalo/Programming/Python/musicnames/variables/case4/char_to_index.pkl\n",
      "/home/goznalo/Programming/Python/musicnames/variables/case4/index_to_char.pkl\n",
      "/home/goznalo/Programming/Python/musicnames/variables/case4/validchars.pkl\n",
      "/home/goznalo/Programming/Python/musicnames/variables/case4/numchars.pkl\n",
      "/home/goznalo/Programming/Python/musicnames/variables/case4/m.pkl\n",
      "/home/goznalo/Programming/Python/musicnames/variables/case4/max_char.pkl\n",
      "/home/goznalo/Programming/Python/musicnames/variables/case3/char_to_index.pkl\n",
      "/home/goznalo/Programming/Python/musicnames/variables/case3/index_to_char.pkl\n",
      "/home/goznalo/Programming/Python/musicnames/variables/case3/validchars.pkl\n",
      "/home/goznalo/Programming/Python/musicnames/variables/case3/numchars.pkl\n",
      "/home/goznalo/Programming/Python/musicnames/variables/case3/m.pkl\n",
      "/home/goznalo/Programming/Python/musicnames/variables/case3/max_char.pkl\n",
      "/home/goznalo/Programming/Python/musicnames/clearlists/clearedlist3.csv\n",
      "/home/goznalo/Programming/Python/musicnames/clearlists/clearedlist1.csv\n",
      "/home/goznalo/Programming/Python/musicnames/clearlists/clearedlist4.csv\n",
      "/home/goznalo/Programming/Python/musicnames/clearlists/clearedlist2.csv\n",
      "/home/goznalo/Programming/Python/musicnames/generatednames/names_case4.txt\n",
      "/home/goznalo/Programming/Python/musicnames/generatednames/names_case2.txt\n",
      "/home/goznalo/Programming/Python/musicnames/generatednames/names_case1.txt\n",
      "/home/goznalo/Programming/Python/musicnames/generatednames/names_case3.txt\n",
      "/home/goznalo/Programming/Python/musicnames/finalmodels/model_case3.hdf5\n",
      "/home/goznalo/Programming/Python/musicnames/finalmodels/model_case4.hdf5\n"
     ]
    }
   ],
   "source": [
    "import numpy as np\n",
    "import pickle\n",
    "\n",
    "import os\n",
    "for dirname, _, filenames in os.walk('/home/goznalo/Programming/Python/musicnames'):\n",
    "    for filename in filenames:\n",
    "        if \"checkpoints\" not in dirname:\n",
    "            if \".git\" not in dirname:\n",
    "                print(os.path.join(dirname, filename))\n",
    "\n",
    "from tensorflow.keras.models import load_model\n",
    "\n",
    "%matplotlib inline"
   ]
  },
  {
   "cell_type": "code",
   "execution_count": 32,
   "metadata": {},
   "outputs": [],
   "source": [
    "case = 4 #pick which case"
   ]
  },
  {
   "cell_type": "code",
   "execution_count": 33,
   "metadata": {},
   "outputs": [],
   "source": [
    "model =load_model(f'finalmodels/model_case{case}.hdf5')"
   ]
  },
  {
   "cell_type": "code",
   "execution_count": 34,
   "metadata": {},
   "outputs": [],
   "source": [
    "#Pickle loading function\n",
    "def load_obj(name ): # function retrieving the variable stored in \"variables/name.pkl\"\n",
    "    with open(f'variables/case{case}/' + name + '.pkl', 'rb') as f:\n",
    "        return pickle.load(f)"
   ]
  },
  {
   "cell_type": "code",
   "execution_count": 35,
   "metadata": {},
   "outputs": [],
   "source": [
    "validchars = load_obj(\"validchars\")\n",
    "m = load_obj(\"m\")\n",
    "max_char = load_obj(\"max_char\")\n",
    "numchars = load_obj(\"numchars\")\n",
    "char_to_index = load_obj(\"char_to_index\")\n",
    "index_to_char = load_obj(\"index_to_char\")"
   ]
  },
  {
   "cell_type": "code",
   "execution_count": 36,
   "metadata": {},
   "outputs": [],
   "source": [
    "def make_name(model): #name generator using the model's weight's current prediction\n",
    "    name = []\n",
    "    x = np.zeros((1, max_char, numchars))\n",
    "    end = False\n",
    "    i = 0\n",
    "    \n",
    "    while end==False:\n",
    "        probs = list(model.predict(x)[0,i])\n",
    "        probs = probs / np.sum(probs)\n",
    "        index = np.random.choice(range(numchars), p=probs)\n",
    "        if i == max_char-2:\n",
    "            character = '\\n'\n",
    "            end = True\n",
    "        else:\n",
    "            character = index_to_char[index]\n",
    "        name.append(character)\n",
    "        x[0, i+1, index] = 1\n",
    "        i += 1\n",
    "        if character == '\\n':\n",
    "            end = True\n",
    "    \n",
    "    \n",
    "    print(''.join(name))\n",
    "    \n",
    "    name = ''.join(name[0:-1])\n",
    "    \n",
    "    return name"
   ]
  },
  {
   "cell_type": "code",
   "execution_count": 37,
   "metadata": {},
   "outputs": [
    {
     "name": "stdout",
     "output_type": "stream",
     "text": [
      "amatie\n",
      "\n"
     ]
    }
   ],
   "source": [
    "newname = make_name(model) #check that the variable loading works (only running cell #1 and the make_name cell, along with the two previous ones)"
   ]
  },
  {
   "cell_type": "markdown",
   "metadata": {},
   "source": [
    "We can now generate some names, we will write 5 of them to files corresponding to each case."
   ]
  },
  {
   "cell_type": "code",
   "execution_count": 38,
   "metadata": {},
   "outputs": [
    {
     "name": "stdout",
     "output_type": "stream",
     "text": [
      "untsypscec\n",
      "\n",
      "tressolf\n",
      "\n",
      "racitano\n",
      "\n",
      "katir\n",
      "\n",
      "veyno\n",
      "\n"
     ]
    }
   ],
   "source": [
    "file_names = open(f'generatednames/names_case{case}.txt','w')\n",
    "for i in range(5):\n",
    "    file_names.write(str(make_name(model)) +  \"\\n\")\n",
    "file_names.close() "
   ]
  },
  {
   "cell_type": "code",
   "execution_count": null,
   "metadata": {},
   "outputs": [],
   "source": []
  }
 ],
 "metadata": {
  "kernelspec": {
   "display_name": "Python 3",
   "language": "python",
   "name": "python3"
  },
  "language_info": {
   "codemirror_mode": {
    "name": "ipython",
    "version": 3
   },
   "file_extension": ".py",
   "mimetype": "text/x-python",
   "name": "python",
   "nbconvert_exporter": "python",
   "pygments_lexer": "ipython3",
   "version": "3.8.3"
  }
 },
 "nbformat": 4,
 "nbformat_minor": 4
}
