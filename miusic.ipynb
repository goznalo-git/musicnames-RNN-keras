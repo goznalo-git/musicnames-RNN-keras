{
 "cells": [
  {
   "cell_type": "markdown",
   "metadata": {},
   "source": [
    "# Music name generator\n",
    "Well here we are. I'm going to find THE best music name, thanks to machine learning"
   ]
  },
  {
   "cell_type": "code",
   "execution_count": 1,
   "metadata": {
    "_cell_guid": "b1076dfc-b9ad-4769-8c92-a6c4dae69d19",
    "_uuid": "8f2839f25d086af736a60e9eeb907d3b93b6e0e5"
   },
   "outputs": [
    {
     "name": "stdout",
     "output_type": "stream",
     "text": [
      "/home/goznalo/Programming/Python/musicnames/namexamples.txt\n",
      "/home/goznalo/Programming/Python/musicnames/artists.csv\n",
      "/home/goznalo/Programming/Python/musicnames/miusic.ipynb\n",
      "/home/goznalo/Programming/Python/musicnames/.gitattributes\n",
      "/home/goznalo/Programming/Python/musicnames/README.md\n",
      "/home/goznalo/Programming/Python/musicnames/variables/char_to_index.pkl\n",
      "/home/goznalo/Programming/Python/musicnames/variables/index_to_char.pkl\n",
      "/home/goznalo/Programming/Python/musicnames/variables/validchars.pkl\n",
      "/home/goznalo/Programming/Python/musicnames/variables/numchars.pkl\n",
      "/home/goznalo/Programming/Python/musicnames/variables/m.pkl\n",
      "/home/goznalo/Programming/Python/musicnames/variables/max_char.pkl\n",
      "/home/goznalo/Programming/Python/musicnames/clearlists/clearedlist3.csv\n",
      "/home/goznalo/Programming/Python/musicnames/clearlists/clearedlist1.csv\n",
      "/home/goznalo/Programming/Python/musicnames/clearlists/clearedlist2.csv\n"
     ]
    }
   ],
   "source": [
    "import numpy as np \n",
    "import pandas as pd \n",
    "import string\n",
    "import matplotlib.pyplot as plt\n",
    "import pickle\n",
    "\n",
    "import os\n",
    "for dirname, _, filenames in os.walk('/home/goznalo/Programming/Python/musicnames'):\n",
    "    for filename in filenames:\n",
    "        if \"checkpoints\" not in dirname:\n",
    "            if \".git\" not in dirname:\n",
    "                print(os.path.join(dirname, filename))\n",
    "\n",
    "from tensorflow.keras.layers import Dense, LSTM\n",
    "from tensorflow.keras.models import Sequential, load_model\n",
    "from tensorflow.keras.callbacks import ModelCheckpoint, LambdaCallback\n",
    "\n",
    "%matplotlib inline"
   ]
  },
  {
   "cell_type": "markdown",
   "metadata": {},
   "source": [
    "### Importing the data\n",
    "Let's import the data from the kaggle dataset music-artists-popularity, using the Pandas library."
   ]
  },
  {
   "cell_type": "code",
   "execution_count": 2,
   "metadata": {
    "_cell_guid": "79c7e3d0-c299-4dcb-8224-4455121ee9b0",
    "_uuid": "d629ff2d2480ee46fbb7e2d37f6b5fab8052498a"
   },
   "outputs": [],
   "source": [
    "filename = '/home/goznalo/Programming/Python/musicnames/artists.csv'\n",
    "dataset = pd.read_csv(filename, usecols = [2], dtype=str) # Obtain the artist name column."
   ]
  },
  {
   "cell_type": "code",
   "execution_count": 3,
   "metadata": {},
   "outputs": [
    {
     "data": {
      "text/plain": [
       "<bound method NDFrame.head of                  artist_lastfm\n",
       "0                     Coldplay\n",
       "1                    Radiohead\n",
       "2        Red Hot Chili Peppers\n",
       "3                      Rihanna\n",
       "4                       Eminem\n",
       "...                        ...\n",
       "1466078                    NaN\n",
       "1466079                    NaN\n",
       "1466080                    NaN\n",
       "1466081                    NaN\n",
       "1466082                    NaN\n",
       "\n",
       "[1466083 rows x 1 columns]>"
      ]
     },
     "execution_count": 3,
     "metadata": {},
     "output_type": "execute_result"
    }
   ],
   "source": [
    "dataset.head # preview of the data"
   ]
  },
  {
   "cell_type": "markdown",
   "metadata": {},
   "source": [
    "### Clearing, part 1\n",
    "We don't want any of the NaN entries, nor duplicate names. We will also convert it to a numpy array for posterior transformations."
   ]
  },
  {
   "cell_type": "code",
   "execution_count": 4,
   "metadata": {},
   "outputs": [],
   "source": [
    "df = dataset.dropna(axis = 0,how = 'any',thresh = None).drop_duplicates(subset=None) #removing NaN's and converting to numpy.\n",
    "names = np.squeeze(np.asarray(df))"
   ]
  },
  {
   "cell_type": "code",
   "execution_count": 5,
   "metadata": {},
   "outputs": [
    {
     "data": {
      "text/plain": [
       "957812"
      ]
     },
     "execution_count": 5,
     "metadata": {},
     "output_type": "execute_result"
    }
   ],
   "source": [
    "len(names)"
   ]
  },
  {
   "cell_type": "code",
   "execution_count": 6,
   "metadata": {},
   "outputs": [
    {
     "data": {
      "text/plain": [
       "'Coldplay'"
      ]
     },
     "execution_count": 6,
     "metadata": {},
     "output_type": "execute_result"
    }
   ],
   "source": [
    "names[0]"
   ]
  },
  {
   "cell_type": "markdown",
   "metadata": {},
   "source": [
    "### Clearing, part 2\n",
    "We will now remove all those names using non-standard characters. What I mean by non-standard is all those characters not being latin ones, nor punctuation ones, nor digits, nor spaces. For instance, we will get rid of those using chinese characters or greek letters.\n",
    "\n",
    "If we try applying the .isalnum() method, we quickly run into trouble as these non-latin characters return True. We need to come up with a solution. One way around this is by using the string module. With it, the string.printable characters are those we want to allow in our names, therefore we make a set out of them, which will be used against the names of the database in a loop."
   ]
  },
  {
   "cell_type": "code",
   "execution_count": 7,
   "metadata": {},
   "outputs": [
    {
     "name": "stdout",
     "output_type": "stream",
     "text": [
      "{'J', '.', '<', 'g', '/', '8', 'd', ';', 'x', 'r', '`', '^', '1', '\\r', ')', '\\x0b', 'U', 'S', '#', ':', 'P', '6', 'W', '?', 'D', 'm', 'Q', 'c', 'o', '\"', '|', 'k', 'y', 'p', '7', 'n', 'u', 'K', 'H', '}', 'i', 'V', 'v', 'f', '3', 'q', '9', '$', 'b', 'N', 'C', '(', ' ', 'L', '2', 'X', 's', '\\\\', '-', 'w', '{', 'B', '%', '\\x0c', 'A', 'a', '*', 'l', 'G', '&', 't', '_', '5', 'Z', '+', '[', 'T', 'E', '0', 'I', '~', 'M', 'e', ',', 'h', 'F', '!', 'Y', '\\t', '@', '\\n', ']', 'O', 'R', '>', '=', 'z', \"'\", 'j', '4'}\n"
     ]
    }
   ],
   "source": [
    "validchars = {}\n",
    "validchars[0] = set(string.printable)\n",
    "print(validchars[0])"
   ]
  },
  {
   "cell_type": "markdown",
   "metadata": {},
   "source": [
    "Now comes the loop. An initial approach was creating a new object, a numpy array, to which we would append each valid name, therefore discarding the rest of the names with invalid characters. However, the appending operation makes the algorithm take exponential time of completion. Instead, we can save the index of each invalid word in a list, which we then feed to the np.delete() function to remove those entries of the \"names\" array"
   ]
  },
  {
   "cell_type": "code",
   "execution_count": 8,
   "metadata": {},
   "outputs": [],
   "source": [
    "clearedlist = {}\n",
    "def deletechars(validcharacters, listofnames, verbose=False):  # We define it within a function, as we will need it in the next steps\n",
    "    i = 0 # counts each iteration\n",
    "    j = 0 # counts each invalid word\n",
    "    deletelist= []\n",
    "    for name in listofnames:\n",
    "        if not all(char in validcharacters for char in name):\n",
    "            deletelist.append(i)\n",
    "            if j%10000 == 0 and verbose:\n",
    "                print(\"invalid: \" + name)\n",
    "            j += 1\n",
    "        i += 1\n",
    "        if i%50000 == 0 and verbose:\n",
    "            print(str(i) + \" cases inspected.\")\n",
    "    return np.delete(listofnames, deletelist)\n",
    "\n",
    "clearedlist[0] = deletechars(validchars[0], names) #by default, verbose = False (no output)"
   ]
  },
  {
   "cell_type": "code",
   "execution_count": 9,
   "metadata": {},
   "outputs": [
    {
     "data": {
      "text/plain": [
       "array(['Coldplay', 'Radiohead', 'Red Hot Chili Peppers', 'Rihanna',\n",
       "       'Eminem', 'The Killers', 'Kanye West', 'Nirvana', 'Muse', 'Queen',\n",
       "       'Foo Fighters', 'Linkin Park', 'Lady Gaga', 'The Rolling Stones',\n",
       "       'Daft Punk', 'Green Day', 'Katy Perry', 'The Beatles', 'Oasis',\n",
       "       'Gorillaz', 'Michael Jackson', 'Maroon 5'], dtype=object)"
      ]
     },
     "execution_count": 9,
     "metadata": {},
     "output_type": "execute_result"
    }
   ],
   "source": [
    "clearedlist[0][0:22] # Check that Beyoncé has been correctly removed."
   ]
  },
  {
   "cell_type": "code",
   "execution_count": 10,
   "metadata": {},
   "outputs": [],
   "source": [
    "np.savetxt(\"clearlists/clearedlist1.csv\", clearedlist[0], delimiter=\",\", fmt='%s') #save the list to a csv file."
   ]
  },
  {
   "cell_type": "markdown",
   "metadata": {},
   "source": [
    "### Clearing, part 3: choose your own adventure\n",
    "We will now distinguish four different cases which can be studied, with decreasing complexity. \n",
    "1. The full list, as is.\n",
    "2. The list, having removed punctuation characters and digits.\n",
    "3. The list, having removed both punctuation characters, digits and names with more than two words.\n",
    "4. The list, having removed both punctuation characters, digits and names with more than one word.\n",
    "\n",
    "Case 2 is easy to implement, just applying the previously defined deletechars() function, specifying punctuation characters as invalid (allowing whitespaces). Case 4 is also straightforward to implement, as string.ascii_letters considers any whitespace invalid. Case 3 entails splitting each name using a \"space\" delimiter, and then discarding them lengthwise."
   ]
  },
  {
   "cell_type": "code",
   "execution_count": 11,
   "metadata": {},
   "outputs": [],
   "source": [
    "case = 3 #change to whichever of the above\n",
    "verbose = False"
   ]
  },
  {
   "cell_type": "code",
   "execution_count": 12,
   "metadata": {},
   "outputs": [
    {
     "name": "stdout",
     "output_type": "stream",
     "text": [
      "(957812, 861756, 743526, 626581, 0)\n",
      "['Coldplay' 'Radiohead' 'Rihanna' 'Eminem' 'The Killers' 'Kanye West'\n",
      " 'Nirvana' 'Muse' 'Queen' 'Foo Fighters' 'Linkin Park' 'Lady Gaga'\n",
      " 'Daft Punk' 'Green Day' 'Katy Perry' 'The Beatles' 'Oasis' 'Gorillaz'\n",
      " 'Michael Jackson' 'Arctic Monkeys' 'Drake' 'David Bowie']\n"
     ]
    }
   ],
   "source": [
    "validchars[1] = set(string.ascii_letters).union(\" \")\n",
    "validchars[2] = set(string.ascii_letters).union(\" \") #we won't use it here, but we will count the characters with this.\n",
    "validchars[3] = set(string.ascii_letters)\n",
    "\n",
    "clearedlist[1] = []\n",
    "clearedlist[2] = []\n",
    "clearedlist[3] = []\n",
    "\n",
    "if (case == 2 or case == 3 or case == 4):\n",
    "    clearedlist[1] = deletechars(validchars[1], clearedlist[0])\n",
    "    np.savetxt(\"clearlists/clearedlist2.csv\", clearedlist[1], delimiter=\",\", fmt='%s')\n",
    "    \n",
    "    if (case == 3 or case == 4): #as the function above, but indexing based on the length of string.split()\n",
    "        i = 0 \n",
    "        j = 0 \n",
    "        deletelist = []\n",
    "        for name in clearedlist[1]:\n",
    "            if len(name.split()) > 2:\n",
    "                deletelist.append(i)\n",
    "                if j%10000 == 0 and verbose:\n",
    "                    print(\"invalid: \" + name)\n",
    "                j += 1\n",
    "            i += 1\n",
    "            if i%50000 == 0 and verbose:\n",
    "                print(str(i) + \" cases inspected (lengthwise).\")\n",
    "        clearedlist[2] = np.delete(clearedlist[1], deletelist)\n",
    "        np.savetxt(\"clearlists/clearedlist3.csv\", clearedlist[2], delimiter=\",\", fmt='%s') \n",
    "        \n",
    "        if case == 4: # string.ascii_letters considers whitespaces as invalid.\n",
    "            clearedlist[3] = deletechars(validchars[3], clearedlist[2])\n",
    "            np.savetxt(\"clearlists/clearedlist4.csv\", clearedlist[3], delimiter=\",\", fmt='%s')\n",
    "\n",
    "print((len(names), len(clearedlist[0]), len(clearedlist[1]), len(clearedlist[2]), len(clearedlist[3])))\n",
    "print(clearedlist[2][0:22])"
   ]
  },
  {
   "cell_type": "markdown",
   "metadata": {},
   "source": [
    "### Some more pre-processing, I guess\n",
    "\n",
    "Now that we have our desired array of names, we need to prepare them for being inputted to a neural network. There are several steps to be taken: first, \n",
    "we will append to each name a \"\\n\" character: this will be our end-of-name character. We will later make all names lowercase, so as to use a dimensionally smaller encoding. Then, making use of the char_to_index dictionary and the keras.utils.to_categorical() function, we will create our one-hot vectors\n"
   ]
  },
  {
   "cell_type": "code",
   "execution_count": 13,
   "metadata": {},
   "outputs": [],
   "source": [
    "data = clearedlist[case-1][0:int(round(len(clearedlist[case-1])/10))] #definitive list of names\n",
    "m = len(data) #training examples\n",
    "\n",
    "for i in range(m):\n",
    "    data[i] = data[i].lower()"
   ]
  },
  {
   "cell_type": "code",
   "execution_count": 14,
   "metadata": {},
   "outputs": [],
   "source": [
    "for i in range(len(data)):\n",
    "    data[i] = data[i] + '\\n'"
   ]
  },
  {
   "cell_type": "code",
   "execution_count": 15,
   "metadata": {},
   "outputs": [
    {
     "data": {
      "text/plain": [
       "'radiohead\\n'"
      ]
     },
     "execution_count": 15,
     "metadata": {},
     "output_type": "execute_result"
    }
   ],
   "source": [
    "data[1]"
   ]
  },
  {
   "cell_type": "code",
   "execution_count": 16,
   "metadata": {},
   "outputs": [
    {
     "name": "stdout",
     "output_type": "stream",
     "text": [
      "44\n"
     ]
    }
   ],
   "source": [
    "max_char = len(max(data, key=len))\n",
    "print(max_char)"
   ]
  },
  {
   "cell_type": "code",
   "execution_count": 17,
   "metadata": {},
   "outputs": [
    {
     "name": "stdout",
     "output_type": "stream",
     "text": [
      "28\n"
     ]
    }
   ],
   "source": [
    "characters = validchars[case-1].union('\\n')\n",
    "chars = sorted(list(dict.fromkeys([char.lower() for char in characters])))\n",
    "numchars = len(chars)\n",
    "\n",
    "print(numchars)"
   ]
  },
  {
   "cell_type": "code",
   "execution_count": 18,
   "metadata": {},
   "outputs": [
    {
     "name": "stdout",
     "output_type": "stream",
     "text": [
      "{'\\n': 0, ' ': 1, 'a': 2, 'b': 3, 'c': 4, 'd': 5, 'e': 6, 'f': 7, 'g': 8, 'h': 9, 'i': 10, 'j': 11, 'k': 12, 'l': 13, 'm': 14, 'n': 15, 'o': 16, 'p': 17, 'q': 18, 'r': 19, 's': 20, 't': 21, 'u': 22, 'v': 23, 'w': 24, 'x': 25, 'y': 26, 'z': 27}\n",
      "{0: '\\n', 1: ' ', 2: 'a', 3: 'b', 4: 'c', 5: 'd', 6: 'e', 7: 'f', 8: 'g', 9: 'h', 10: 'i', 11: 'j', 12: 'k', 13: 'l', 14: 'm', 15: 'n', 16: 'o', 17: 'p', 18: 'q', 19: 'r', 20: 's', 21: 't', 22: 'u', 23: 'v', 24: 'w', 25: 'x', 26: 'y', 27: 'z'}\n"
     ]
    }
   ],
   "source": [
    "char_to_index = { ch:ix for ix, ch in enumerate(chars)} #assigns numbers to characters.\n",
    "index_to_char = { ix:ch for ix, ch in enumerate(chars)} #assigns numbers to characters.\n",
    "\n",
    "print(char_to_index)\n",
    "print(index_to_char)"
   ]
  },
  {
   "cell_type": "code",
   "execution_count": 19,
   "metadata": {},
   "outputs": [
    {
     "name": "stdout",
     "output_type": "stream",
     "text": [
      "(62658, 44, 28)\n"
     ]
    }
   ],
   "source": [
    "print((m,max_char,numchars))"
   ]
  },
  {
   "cell_type": "code",
   "execution_count": 21,
   "metadata": {},
   "outputs": [],
   "source": [
    "X = np.zeros((m, max_char, numchars))\n",
    "Y = np.zeros((m, max_char, numchars))\n",
    "\n",
    "for i in range(m):\n",
    "    name = list(data[i])\n",
    "    for j in range(len(name)):\n",
    "        X[i, j, char_to_index[name[j]]] = 1\n",
    "        if j < len(name)-1:\n",
    "            Y[i, j, char_to_index[name[j+1]]] = 1"
   ]
  },
  {
   "cell_type": "markdown",
   "metadata": {},
   "source": [
    "### Bringing Keras to the game: Sequential model.\n",
    "\n",
    "We will finally introduce our friend Keras. As for the training/dev/test split, we're just not going to consider it. It's not like this has some application behind my own enjoyment, therefore the whole set goes to training."
   ]
  },
  {
   "cell_type": "code",
   "execution_count": 22,
   "metadata": {},
   "outputs": [],
   "source": [
    "model = Sequential()\n",
    "model.add(LSTM(128, input_shape=(max_char, numchars), return_sequences=True))\n",
    "model.add(Dense(numchars, activation='softmax'))\n",
    "\n",
    "model.compile(loss='categorical_crossentropy', optimizer='adam')"
   ]
  },
  {
   "cell_type": "code",
   "execution_count": 2,
   "metadata": {},
   "outputs": [],
   "source": [
    "def make_name(model): #name generator using the model's weight's current prediction\n",
    "    name = []\n",
    "    x = np.zeros((1, max_char, numchars))\n",
    "    end = False\n",
    "    i = 0\n",
    "    \n",
    "    while end==False:\n",
    "        probs = list(model.predict(x)[0,i])\n",
    "        probs = probs / np.sum(probs)\n",
    "        index = np.random.choice(range(numchars), p=probs)\n",
    "        if i == max_char-2:\n",
    "            character = '\\n'\n",
    "            end = True\n",
    "        else:\n",
    "            character = index_to_char[index]\n",
    "        name.append(character)\n",
    "        x[0, i+1, index] = 1\n",
    "        i += 1\n",
    "        if character == '\\n':\n",
    "            end = True\n",
    "    \n",
    "    \n",
    "    print(''.join(name))\n",
    "    \n",
    "    name = ''.join(name[0:-1])\n",
    "    \n",
    "    return name"
   ]
  },
  {
   "cell_type": "code",
   "execution_count": 24,
   "metadata": {},
   "outputs": [],
   "source": [
    "def generate_name_loop(epoch, _): # generate 3 names every 15 epochs\n",
    "    if epoch % 15 == 0:\n",
    "        \n",
    "        print('\\nNames generated after epoch %d:' % epoch)\n",
    "\n",
    "        for i in range(3):\n",
    "            make_name(model)\n",
    "        \n",
    "        print()"
   ]
  },
  {
   "cell_type": "markdown",
   "metadata": {},
   "source": [
    "#### Callbacks\n",
    "\n",
    "We will be adding two callbacks to the model: these are operations executed after each epoch. The first one is ModelCheckpoint, which will check if the model has improved, and if so it will save the recently computed weights to a file (=filepath). The second one is LambdaCallback, which allows us to specify our own function to be executed after each epoch, in this case we will use the generate_name_loop() function to predict 3 names after 15 epochs have occured. "
   ]
  },
  {
   "cell_type": "code",
   "execution_count": 25,
   "metadata": {},
   "outputs": [],
   "source": [
    "filepath=\"checkpoints/weights-improvement-{epoch:02d}.hdf5\"\n",
    "checkpoint = ModelCheckpoint(filepath, monitor='loss', verbose=0, save_best_only=True, mode='min')\n",
    "name_generator = LambdaCallback(on_epoch_end = generate_name_loop)\n",
    "callbacks_list = [checkpoint, name_generator]"
   ]
  },
  {
   "cell_type": "code",
   "execution_count": 26,
   "metadata": {},
   "outputs": [
    {
     "name": "stdout",
     "output_type": "stream",
     "text": [
      "Epoch 1/51\n",
      "123/123 [==============================] - ETA: 0s - loss: 0.6799\n",
      "Names generated after epoch 0:\n",
      "yeyec y shotawn\n",
      "\n",
      "oxzi srcri\n",
      "\n",
      "eqaderfaao\n",
      "\n",
      "\n",
      "123/123 [==============================] - 30s 246ms/step - loss: 0.6799\n",
      "Epoch 2/51\n",
      "123/123 [==============================] - 24s 198ms/step - loss: 0.6035\n",
      "Epoch 3/51\n",
      "123/123 [==============================] - 25s 207ms/step - loss: 0.5706\n",
      "Epoch 4/51\n",
      "123/123 [==============================] - 25s 200ms/step - loss: 0.5567\n",
      "Epoch 5/51\n",
      "123/123 [==============================] - 24s 197ms/step - loss: 0.5477\n",
      "Epoch 6/51\n",
      "123/123 [==============================] - 26s 211ms/step - loss: 0.5407\n",
      "Epoch 7/51\n",
      "123/123 [==============================] - 25s 207ms/step - loss: 0.5347\n",
      "Epoch 8/51\n",
      "123/123 [==============================] - 26s 208ms/step - loss: 0.5295\n",
      "Epoch 9/51\n",
      "123/123 [==============================] - 26s 209ms/step - loss: 0.5247\n",
      "Epoch 10/51\n",
      "123/123 [==============================] - 28s 231ms/step - loss: 0.5207\n",
      "Epoch 11/51\n",
      "123/123 [==============================] - 25s 201ms/step - loss: 0.5169\n",
      "Epoch 12/51\n",
      "123/123 [==============================] - 25s 200ms/step - loss: 0.5133\n",
      "Epoch 13/51\n",
      "123/123 [==============================] - 26s 213ms/step - loss: 0.5100\n",
      "Epoch 14/51\n",
      "123/123 [==============================] - 26s 208ms/step - loss: 0.5069\n",
      "Epoch 15/51\n",
      "123/123 [==============================] - 26s 214ms/step - loss: 0.5040\n",
      "Epoch 16/51\n",
      "123/123 [==============================] - ETA: 0s - loss: 0.5014\n",
      "Names generated after epoch 15:\n",
      "edpe\n",
      "\n",
      "elh grang\n",
      "\n",
      "iungmin mwrreth\n",
      "\n",
      "\n",
      "123/123 [==============================] - 26s 214ms/step - loss: 0.5014\n",
      "Epoch 17/51\n",
      "123/123 [==============================] - 25s 204ms/step - loss: 0.4987\n",
      "Epoch 18/51\n",
      "123/123 [==============================] - 25s 202ms/step - loss: 0.4962\n",
      "Epoch 19/51\n",
      "123/123 [==============================] - 25s 200ms/step - loss: 0.4938\n",
      "Epoch 20/51\n",
      "123/123 [==============================] - 26s 210ms/step - loss: 0.4916\n",
      "Epoch 21/51\n",
      "123/123 [==============================] - 26s 210ms/step - loss: 0.4895\n",
      "Epoch 22/51\n",
      "123/123 [==============================] - 26s 210ms/step - loss: 0.4874\n",
      "Epoch 23/51\n",
      "123/123 [==============================] - 26s 212ms/step - loss: 0.4853\n",
      "Epoch 24/51\n",
      "123/123 [==============================] - 27s 216ms/step - loss: 0.4835\n",
      "Epoch 25/51\n",
      "123/123 [==============================] - 26s 215ms/step - loss: 0.4816\n",
      "Epoch 26/51\n",
      "123/123 [==============================] - 25s 203ms/step - loss: 0.4800\n",
      "Epoch 27/51\n",
      "123/123 [==============================] - 24s 198ms/step - loss: 0.4783\n",
      "Epoch 28/51\n",
      "123/123 [==============================] - 25s 199ms/step - loss: 0.4767\n",
      "Epoch 29/51\n",
      "123/123 [==============================] - 25s 203ms/step - loss: 0.4752\n",
      "Epoch 30/51\n",
      "123/123 [==============================] - 25s 201ms/step - loss: 0.4738\n",
      "Epoch 31/51\n",
      "123/123 [==============================] - ETA: 0s - loss: 0.4722\n",
      "Names generated after epoch 30:\n",
      "windade\n",
      "\n",
      "vitta\n",
      "\n",
      "s\n",
      "\n",
      "\n",
      "123/123 [==============================] - 25s 206ms/step - loss: 0.4722\n",
      "Epoch 32/51\n",
      "123/123 [==============================] - 25s 207ms/step - loss: 0.4709\n",
      "Epoch 33/51\n",
      "123/123 [==============================] - 26s 211ms/step - loss: 0.4696\n",
      "Epoch 34/51\n",
      "123/123 [==============================] - 26s 212ms/step - loss: 0.4684\n",
      "Epoch 35/51\n",
      "123/123 [==============================] - 26s 209ms/step - loss: 0.4671\n",
      "Epoch 36/51\n",
      "123/123 [==============================] - 26s 210ms/step - loss: 0.4660\n",
      "Epoch 37/51\n",
      "123/123 [==============================] - 25s 205ms/step - loss: 0.4649\n",
      "Epoch 38/51\n",
      "123/123 [==============================] - 25s 201ms/step - loss: 0.4638\n",
      "Epoch 39/51\n",
      "123/123 [==============================] - 26s 215ms/step - loss: 0.4628\n",
      "Epoch 40/51\n",
      "123/123 [==============================] - 27s 216ms/step - loss: 0.4617\n",
      "Epoch 41/51\n",
      "123/123 [==============================] - 24s 197ms/step - loss: 0.4607\n",
      "Epoch 42/51\n",
      "123/123 [==============================] - 24s 197ms/step - loss: 0.4598\n",
      "Epoch 43/51\n",
      "123/123 [==============================] - 24s 197ms/step - loss: 0.4589\n",
      "Epoch 44/51\n",
      "123/123 [==============================] - 24s 197ms/step - loss: 0.4580\n",
      "Epoch 45/51\n",
      "123/123 [==============================] - 24s 197ms/step - loss: 0.4571\n",
      "Epoch 46/51\n",
      "123/123 [==============================] - ETA: 0s - loss: 0.4563\n",
      "Names generated after epoch 45:\n",
      "que\n",
      "\n",
      "uphira\n",
      "\n",
      "ima paul\n",
      "\n",
      "\n",
      "123/123 [==============================] - 25s 204ms/step - loss: 0.4563\n",
      "Epoch 47/51\n",
      "123/123 [==============================] - 25s 207ms/step - loss: 0.4554\n",
      "Epoch 48/51\n",
      "123/123 [==============================] - 25s 203ms/step - loss: 0.4547\n",
      "Epoch 49/51\n",
      "123/123 [==============================] - 24s 199ms/step - loss: 0.4539\n",
      "Epoch 50/51\n",
      "123/123 [==============================] - 24s 198ms/step - loss: 0.4531\n",
      "Epoch 51/51\n",
      "123/123 [==============================] - 24s 198ms/step - loss: 0.4525\n"
     ]
    }
   ],
   "source": [
    "history = model.fit(X, Y, batch_size=512, epochs=51, callbacks = callbacks_list, verbose=1)"
   ]
  },
  {
   "cell_type": "code",
   "execution_count": 28,
   "metadata": {},
   "outputs": [
    {
     "name": "stdout",
     "output_type": "stream",
     "text": [
      "rick roiandick\n",
      "\n"
     ]
    }
   ],
   "source": [
    "make_name(model)"
   ]
  },
  {
   "cell_type": "code",
   "execution_count": 31,
   "metadata": {},
   "outputs": [
    {
     "name": "stdout",
     "output_type": "stream",
     "text": [
      "dict_keys(['loss'])\n"
     ]
    }
   ],
   "source": [
    "print(history.history.keys())"
   ]
  },
  {
   "cell_type": "code",
   "execution_count": 33,
   "metadata": {},
   "outputs": [
    {
     "data": {
      "image/png": "[encoded data removed]",
      "text/plain": [
       "<Figure size 432x288 with 1 Axes>"
      ]
     },
     "metadata": {
      "needs_background": "light"
     },
     "output_type": "display_data"
    }
   ],
   "source": [
    "# summarize history for loss\n",
    "plt.plot(history.history['loss'])\n",
    "plt.title('Model loss')\n",
    "plt.ylabel('Loss')\n",
    "plt.xlabel('Epoch')\n",
    "plt.legend(['Training'], loc='upper right')\n",
    "plt.show()"
   ]
  },
  {
   "cell_type": "markdown",
   "metadata": {},
   "source": [
    "### Saving and loading variables for other sessions\n",
    "\n",
    "If we want to generate new names with previously computed models, we need both the weights .hdf5 file (stored in the checkpoints/ folder), and some of the variables created throughout this notebook, which we will save using the pickle module:"
   ]
  },
  {
   "cell_type": "code",
   "execution_count": 3,
   "metadata": {},
   "outputs": [],
   "source": [
    "def save_obj(obj, name ): # function saving the variable obj in a file called \"name.pkl\", within the variables/ folder\n",
    "    with open('variables/'+ name + '.pkl', 'wb') as f:\n",
    "        pickle.dump(obj, f, pickle.HIGHEST_PROTOCOL)\n",
    "\n",
    "def load_obj(name ): # function retrieving the variable stored in \"variables/name.pkl\"\n",
    "    with open('variables/' + name + '.pkl', 'rb') as f:\n",
    "        return pickle.load(f)"
   ]
  },
  {
   "cell_type": "code",
   "execution_count": 21,
   "metadata": {},
   "outputs": [],
   "source": [
    "save_obj(validchars, \"validchars\")\n",
    "save_obj(m, \"m\")\n",
    "save_obj(max_char, \"max_char\")\n",
    "save_obj(numchars, \"numchars\")\n",
    "save_obj(char_to_index, \"char_to_index\")\n",
    "save_obj(index_to_char, \"index_to_char\")"
   ]
  },
  {
   "cell_type": "code",
   "execution_count": 4,
   "metadata": {},
   "outputs": [],
   "source": [
    "model =load_model('checkpoints/weights-improvement-51.hdf5')"
   ]
  },
  {
   "cell_type": "code",
   "execution_count": 5,
   "metadata": {},
   "outputs": [],
   "source": [
    "validchars = load_obj(\"validchars\")\n",
    "m = load_obj(\"m\")\n",
    "max_char = load_obj(\"max_char\")\n",
    "numchars = load_obj(\"numchars\")\n",
    "char_to_index = load_obj(\"char_to_index\")\n",
    "index_to_char = load_obj(\"index_to_char\")"
   ]
  },
  {
   "cell_type": "code",
   "execution_count": 6,
   "metadata": {},
   "outputs": [
    {
     "name": "stdout",
     "output_type": "stream",
     "text": [
      "reelly schridager\n",
      "\n"
     ]
    }
   ],
   "source": [
    "newname = make_name(model) #check that the variable loading works (only running cell #1 and the make_name cell, along with the two previous ones)"
   ]
  },
  {
   "cell_type": "code",
   "execution_count": null,
   "metadata": {},
   "outputs": [],
   "source": []
  }
 ],
 "metadata": {
  "kernelspec": {
   "display_name": "Python 3",
   "language": "python",
   "name": "python3"
  },
  "language_info": {
   "codemirror_mode": {
    "name": "ipython",
    "version": 3
   },
   "file_extension": ".py",
   "mimetype": "text/x-python",
   "name": "python",
   "nbconvert_exporter": "python",
   "pygments_lexer": "ipython3",
   "version": "3.8.3"
  }
 },
 "nbformat": 4,
 "nbformat_minor": 4
}
