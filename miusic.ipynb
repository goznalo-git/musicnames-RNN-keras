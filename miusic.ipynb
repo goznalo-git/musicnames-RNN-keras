{
 "cells": [
  {
   "cell_type": "markdown",
   "metadata": {},
   "source": [
    "# Music name generator\n",
    "Well here we are. I'm going to find THE best music name, thanks to machine learning"
   ]
  },
  {
   "cell_type": "code",
   "execution_count": 1,
   "metadata": {
    "_cell_guid": "b1076dfc-b9ad-4769-8c92-a6c4dae69d19",
    "_uuid": "8f2839f25d086af736a60e9eeb907d3b93b6e0e5"
   },
   "outputs": [
    {
     "name": "stdout",
     "output_type": "stream",
     "text": [
      "/home/goznalo/Programming/Python/musicnames/artists.csv\n",
      "/home/goznalo/Programming/Python/musicnames/miusic.ipynb\n",
      "/home/goznalo/Programming/Python/musicnames/.git/HEAD\n",
      "/home/goznalo/Programming/Python/musicnames/.git/config\n",
      "/home/goznalo/Programming/Python/musicnames/.git/COMMIT_EDITMSG\n",
      "/home/goznalo/Programming/Python/musicnames/.git/description\n",
      "/home/goznalo/Programming/Python/musicnames/.git/index\n",
      "/home/goznalo/Programming/Python/musicnames/.git/info/exclude\n",
      "/home/goznalo/Programming/Python/musicnames/.git/hooks/pre-push.sample\n",
      "/home/goznalo/Programming/Python/musicnames/.git/hooks/pre-applypatch.sample\n",
      "/home/goznalo/Programming/Python/musicnames/.git/hooks/pre-rebase.sample\n",
      "/home/goznalo/Programming/Python/musicnames/.git/hooks/commit-msg.sample\n",
      "/home/goznalo/Programming/Python/musicnames/.git/hooks/fsmonitor-watchman.sample\n",
      "/home/goznalo/Programming/Python/musicnames/.git/hooks/applypatch-msg.sample\n",
      "/home/goznalo/Programming/Python/musicnames/.git/hooks/post-update.sample\n",
      "/home/goznalo/Programming/Python/musicnames/.git/hooks/pre-merge-commit.sample\n",
      "/home/goznalo/Programming/Python/musicnames/.git/hooks/pre-receive.sample\n",
      "/home/goznalo/Programming/Python/musicnames/.git/hooks/update.sample\n",
      "/home/goznalo/Programming/Python/musicnames/.git/hooks/pre-commit.sample\n",
      "/home/goznalo/Programming/Python/musicnames/.git/hooks/prepare-commit-msg.sample\n",
      "/home/goznalo/Programming/Python/musicnames/.git/logs/HEAD\n",
      "/home/goznalo/Programming/Python/musicnames/.git/logs/refs/heads/master\n",
      "/home/goznalo/Programming/Python/musicnames/.git/objects/06/0564fb228ec1e429c82fd2a2c4a7b70edf0ca5\n",
      "/home/goznalo/Programming/Python/musicnames/.git/objects/30/903f3079e7d010ee39dc3dc5fdcfd46b477ac5\n",
      "/home/goznalo/Programming/Python/musicnames/.git/objects/4a/22a6d50fe774d5d5bc4de81b0c017be38722c1\n",
      "/home/goznalo/Programming/Python/musicnames/.git/objects/66/ab9c069ddac161638bb1aeeeb8c28092e444e2\n",
      "/home/goznalo/Programming/Python/musicnames/.git/objects/8a/3b2f061eb85260d9ce0b85f4d50166bcc239ed\n",
      "/home/goznalo/Programming/Python/musicnames/.git/refs/heads/master\n",
      "/home/goznalo/Programming/Python/musicnames/.ipynb_checkpoints/miusic-checkpoint.ipynb\n"
     ]
    }
   ],
   "source": [
    "import numpy as np \n",
    "import pandas as pd \n",
    "import string\n",
    "import matplotlib.pyplot as plt\n",
    "\n",
    "import os\n",
    "for dirname, _, filenames in os.walk('/home/goznalo/Programming/Python/musicnames'):\n",
    "    for filename in filenames:\n",
    "        print(os.path.join(dirname, filename))\n",
    "\n",
    "\n",
    "%matplotlib inline"
   ]
  },
  {
   "cell_type": "markdown",
   "metadata": {},
   "source": [
    "### Importing the data\n",
    "Let's import the data from the kaggle dataset music-artists-popularity, using the Pandas library."
   ]
  },
  {
   "cell_type": "code",
   "execution_count": 2,
   "metadata": {
    "_cell_guid": "79c7e3d0-c299-4dcb-8224-4455121ee9b0",
    "_uuid": "d629ff2d2480ee46fbb7e2d37f6b5fab8052498a"
   },
   "outputs": [
    {
     "name": "stderr",
     "output_type": "stream",
     "text": [
      "/usr/lib/python3.8/site-packages/IPython/core/interactiveshell.py:3062: DtypeWarning: Columns (2) have mixed types.Specify dtype option on import or set low_memory=False.\n",
      "  has_raised = await self.run_ast_nodes(code_ast.body, cell_name,\n"
     ]
    }
   ],
   "source": [
    "filename = '/home/goznalo/Programming/Python/musicnames/artists.csv'\n",
    "dataset = pd.read_csv(filename, usecols = [2]) # Obtain the artist name column."
   ]
  },
  {
   "cell_type": "code",
   "execution_count": 3,
   "metadata": {},
   "outputs": [
    {
     "data": {
      "text/plain": [
       "<bound method NDFrame.head of                  artist_lastfm\n",
       "0                     Coldplay\n",
       "1                    Radiohead\n",
       "2        Red Hot Chili Peppers\n",
       "3                      Rihanna\n",
       "4                       Eminem\n",
       "...                        ...\n",
       "1466078                    NaN\n",
       "1466079                    NaN\n",
       "1466080                    NaN\n",
       "1466081                    NaN\n",
       "1466082                    NaN\n",
       "\n",
       "[1466083 rows x 1 columns]>"
      ]
     },
     "execution_count": 3,
     "metadata": {},
     "output_type": "execute_result"
    }
   ],
   "source": [
    "dataset.head # preview of the data"
   ]
  },
  {
   "cell_type": "markdown",
   "metadata": {},
   "source": [
    "### Clearing, part 1\n",
    "We don't want any of the NaN entries, nor duplicate names. We will also convert it to a numpy array for posterior transformations."
   ]
  },
  {
   "cell_type": "code",
   "execution_count": 4,
   "metadata": {},
   "outputs": [],
   "source": [
    "df = dataset.dropna(axis = 0,how = 'any',thresh = None).drop_duplicates(subset=None) #removing NaN's and converting to numpy.\n",
    "names = np.squeeze(np.asarray(df))"
   ]
  },
  {
   "cell_type": "code",
   "execution_count": 5,
   "metadata": {},
   "outputs": [],
   "source": [
    "numnames = names.shape[0]"
   ]
  },
  {
   "cell_type": "code",
   "execution_count": 6,
   "metadata": {},
   "outputs": [
    {
     "data": {
      "text/plain": [
       "'Coldplay'"
      ]
     },
     "execution_count": 6,
     "metadata": {},
     "output_type": "execute_result"
    }
   ],
   "source": [
    "names[0]"
   ]
  },
  {
   "cell_type": "markdown",
   "metadata": {},
   "source": [
    "### Clearing, part 2\n",
    "We will now remove all those names using non-standard characters. What I mean by non-standard is all those characters not being latin ones, nor punctuation ones, nor digits, nor spaces. For instance, we will get rid of those using chinese characters or greek letters.\n",
    "\n",
    "We quickly run intro trouble, as the .isalnum() method applied to these non-latin characters returns True. We need to come up with a solution. One way around this is by using the string module. With it, the string.printable characters are those we want to allow in our names, therefore we make a set out of them, which will be used against the names of the database in a loop."
   ]
  },
  {
   "cell_type": "code",
   "execution_count": 7,
   "metadata": {},
   "outputs": [
    {
     "name": "stdout",
     "output_type": "stream",
     "text": [
      "{'4', '%', 'i', '9', '*', 'a', '~', '!', 'j', '\"', 'K', 'F', 'X', 'q', '/', 'c', '|', '6', '\\r', \"'\", 'P', 'O', '0', 'I', 'm', 'y', ')', 'W', '\\x0c', 'A', 'd', 'w', 'B', '`', '1', 'L', '+', '?', '2', 'b', ' ', 'M', ':', '-', 'v', 'l', 'U', 'g', '@', '3', '_', '=', '>', 'e', 'p', 'R', '$', 'N', 'f', '\\x0b', '5', '{', ']', '[', '\\n', '&', '<', '\\t', 'Q', 'D', 'H', 'z', 'Y', 'u', 'x', 'Z', '^', '.', 'V', 'r', '\\\\', 'h', 'J', 'G', 'E', '7', '8', 's', ';', 't', 'S', '}', ',', 'o', '#', 'k', 'T', '(', 'n', 'C'}\n"
     ]
    }
   ],
   "source": [
    "validchars = {}\n",
    "validchars[0] = set(string.printable)\n",
    "print(validchars[0])"
   ]
  },
  {
   "cell_type": "markdown",
   "metadata": {},
   "source": [
    "Now comes the loop. An initial approach was creating a new object, a numpy array, to which we would append each valid name, therefore discarding the rest of the names with invalid characters. However, the appending operation makes the algorithm take exponential time of completion. Instead, we can save the index of each invalid word in a list, which we then feed to the np.delete() function to remove those entries of the \"names\" array"
   ]
  },
  {
   "cell_type": "code",
   "execution_count": 8,
   "metadata": {},
   "outputs": [
    {
     "name": "stdout",
     "output_type": "stream",
     "text": [
      "invalid: Beyoncé\n",
      "50000 cases inspected.\n",
      "100000 cases inspected.\n",
      "150000 cases inspected.\n",
      "invalid: Min Ronnersjö\n",
      "200000 cases inspected.\n",
      "250000 cases inspected.\n",
      "300000 cases inspected.\n",
      "invalid: Kaszás Attila\n",
      "350000 cases inspected.\n",
      "400000 cases inspected.\n",
      "invalid: E=MC²\n",
      "450000 cases inspected.\n",
      "500000 cases inspected.\n",
      "invalid: Natércia Maria\n",
      "550000 cases inspected.\n",
      "600000 cases inspected.\n",
      "invalid: 堀米ゆず子\n",
      "650000 cases inspected.\n",
      "700000 cases inspected.\n",
      "invalid: Fütumche!\n",
      "750000 cases inspected.\n",
      "invalid: Léo Clarens\n",
      "800000 cases inspected.\n",
      "850000 cases inspected.\n",
      "invalid: 권기욱\n",
      "900000 cases inspected.\n",
      "invalid: Arbeiter-Chor (Irmler-Männerchor)\n",
      "950000 cases inspected.\n"
     ]
    },
    {
     "data": {
      "text/plain": [
       "'Beyoncé'"
      ]
     },
     "execution_count": 8,
     "metadata": {},
     "output_type": "execute_result"
    }
   ],
   "source": [
    "deletelist = {}\n",
    "def deletechars(validcharacters, listofnames):  # We define it as a function, as we will need it in the next steps\n",
    "    #clearlist = np.zeros((1,1))\n",
    "    i = 0 # counts each iteration, i.e. the \n",
    "    j = 0 # counts each invalid word, used to check every now and then that names are correctly discarded.\n",
    "    deletelist = []\n",
    "    for name in listofnames:\n",
    "        if not all(char in validcharacters for char in name):\n",
    "            deletelist.append(i)\n",
    "            if j%10000 == 0:\n",
    "                print(\"invalid: \" + name)\n",
    "            j += 1\n",
    "        #else:\n",
    "        #    clearlist = np.append(clearlist, name[0])\n",
    "        i += 1\n",
    "        if i%50000 == 0:\n",
    "            print(str(i) + \" cases inspected.\")\n",
    "    return deletelist\n",
    "\n",
    "deletelist[0] = deletechars(validchars[0], names)\n",
    "\n",
    "names[deletelist[0][0]] # check that this corresponds to the first invalid word, Beyoncé"
   ]
  },
  {
   "cell_type": "code",
   "execution_count": 9,
   "metadata": {},
   "outputs": [
    {
     "data": {
      "text/plain": [
       "array(['Coldplay', 'Radiohead', 'Red Hot Chili Peppers', 'Rihanna',\n",
       "       'Eminem', 'The Killers', 'Kanye West', 'Nirvana', 'Muse', 'Queen',\n",
       "       'Foo Fighters', 'Linkin Park', 'Lady Gaga', 'The Rolling Stones',\n",
       "       'Daft Punk', 'Green Day', 'Katy Perry', 'The Beatles', 'Oasis',\n",
       "       'Gorillaz', 'Michael Jackson', 'Maroon 5'], dtype=object)"
      ]
     },
     "execution_count": 9,
     "metadata": {},
     "output_type": "execute_result"
    }
   ],
   "source": [
    "clearedlist = {}\n",
    "clearedlist[0] = np.delete(names, deletelist[0])\n",
    "clearedlist[0][0:22] # Check that Beyoncé has been correctly removed."
   ]
  },
  {
   "cell_type": "code",
   "execution_count": 10,
   "metadata": {},
   "outputs": [],
   "source": [
    "np.savetxt(\"clearedlist2.csv\", clearedlist[0], delimiter=\",\", fmt='%s') #save the list to a csv file."
   ]
  },
  {
   "cell_type": "markdown",
   "metadata": {},
   "source": [
    "### Clearing, part 3: choose your own adventure\n",
    "We will now distinguish four different cases which can be studied, with decreasing complexity. \n",
    "1. The full list, as is.\n",
    "2. The list, having removed punctuation signs.\n",
    "3. The list, having removed both punctuation characters and names with more than two words.\n",
    "4. The list, having removed both punctuation characters and names with more than one word."
   ]
  },
  {
   "cell_type": "code",
   "execution_count": null,
   "metadata": {},
   "outputs": [],
   "source": []
  }
 ],
 "metadata": {
  "kernelspec": {
   "display_name": "Python 3",
   "language": "python",
   "name": "python3"
  },
  "language_info": {
   "codemirror_mode": {
    "name": "ipython",
    "version": 3
   },
   "file_extension": ".py",
   "mimetype": "text/x-python",
   "name": "python",
   "nbconvert_exporter": "python",
   "pygments_lexer": "ipython3",
   "version": "3.8.3"
  }
 },
 "nbformat": 4,
 "nbformat_minor": 4
}
