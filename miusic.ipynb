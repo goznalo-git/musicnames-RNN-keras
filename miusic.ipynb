{
 "cells": [
  {
   "cell_type": "markdown",
   "metadata": {},
   "source": [
    "# Music name generator\n",
    "Well here we are. I'm going to find THE best music name, thanks to machine learning"
   ]
  },
  {
   "cell_type": "code",
   "execution_count": 71,
   "metadata": {
    "_cell_guid": "b1076dfc-b9ad-4769-8c92-a6c4dae69d19",
    "_uuid": "8f2839f25d086af736a60e9eeb907d3b93b6e0e5"
   },
   "outputs": [
    {
     "name": "stdout",
     "output_type": "stream",
     "text": [
      "/home/goznalo/Programming/Python/musicnames/artists.csv\n",
      "/home/goznalo/Programming/Python/musicnames/miusic.ipynb\n",
      "/home/goznalo/Programming/Python/musicnames/.gitattributes\n",
      "/home/goznalo/Programming/Python/musicnames/README.md\n",
      "/home/goznalo/Programming/Python/musicnames/variables/char_to_index.pkl\n",
      "/home/goznalo/Programming/Python/musicnames/variables/index_to_char.pkl\n",
      "/home/goznalo/Programming/Python/musicnames/variables/validchars.pkl\n",
      "/home/goznalo/Programming/Python/musicnames/variables/numchars.pkl\n",
      "/home/goznalo/Programming/Python/musicnames/variables/m.pkl\n",
      "/home/goznalo/Programming/Python/musicnames/variables/max_char.pkl\n",
      "/home/goznalo/Programming/Python/musicnames/clearlists/clearedlist3.csv\n",
      "/home/goznalo/Programming/Python/musicnames/clearlists/clearedlist1.csv\n",
      "/home/goznalo/Programming/Python/musicnames/clearlists/clearedlist4.csv\n",
      "/home/goznalo/Programming/Python/musicnames/clearlists/clearedlist2.csv\n",
      "/home/goznalo/Programming/Python/musicnames/finalmodels/model_case3.hdf5\n",
      "/home/goznalo/Programming/Python/musicnames/finalmodels/model_case4.hdf5\n"
     ]
    }
   ],
   "source": [
    "import numpy as np \n",
    "import pandas as pd \n",
    "import string\n",
    "import matplotlib.pyplot as plt\n",
    "import pickle\n",
    "\n",
    "import os\n",
    "for dirname, _, filenames in os.walk('/home/goznalo/Programming/Python/musicnames'):\n",
    "    for filename in filenames:\n",
    "        if \"checkpoints\" not in dirname:\n",
    "            if \".git\" not in dirname:\n",
    "                print(os.path.join(dirname, filename))\n",
    "\n",
    "from tensorflow.keras.layers import Dense, LSTM\n",
    "from tensorflow.keras.models import Sequential, load_model\n",
    "from tensorflow.keras.callbacks import ModelCheckpoint, LambdaCallback\n",
    "\n",
    "%matplotlib inline"
   ]
  },
  {
   "cell_type": "markdown",
   "metadata": {},
   "source": [
    "### Importing the data\n",
    "Let's import the data from the kaggle dataset music-artists-popularity, using the Pandas library."
   ]
  },
  {
   "cell_type": "code",
   "execution_count": 72,
   "metadata": {
    "_cell_guid": "79c7e3d0-c299-4dcb-8224-4455121ee9b0",
    "_uuid": "d629ff2d2480ee46fbb7e2d37f6b5fab8052498a"
   },
   "outputs": [],
   "source": [
    "filename = '/home/goznalo/Programming/Python/musicnames/artists.csv'\n",
    "dataset = pd.read_csv(filename, usecols = [2], dtype=str) # Obtain the artist name column."
   ]
  },
  {
   "cell_type": "code",
   "execution_count": 73,
   "metadata": {},
   "outputs": [
    {
     "data": {
      "text/plain": [
       "<bound method NDFrame.head of                  artist_lastfm\n",
       "0                     Coldplay\n",
       "1                    Radiohead\n",
       "2        Red Hot Chili Peppers\n",
       "3                      Rihanna\n",
       "4                       Eminem\n",
       "...                        ...\n",
       "1466078                    NaN\n",
       "1466079                    NaN\n",
       "1466080                    NaN\n",
       "1466081                    NaN\n",
       "1466082                    NaN\n",
       "\n",
       "[1466083 rows x 1 columns]>"
      ]
     },
     "execution_count": 73,
     "metadata": {},
     "output_type": "execute_result"
    }
   ],
   "source": [
    "dataset.head # preview of the data"
   ]
  },
  {
   "cell_type": "markdown",
   "metadata": {},
   "source": [
    "### Clearing, part 1\n",
    "We don't want any of the NaN entries, nor duplicate names. We will also convert it to a numpy array for posterior transformations."
   ]
  },
  {
   "cell_type": "code",
   "execution_count": 74,
   "metadata": {},
   "outputs": [],
   "source": [
    "df = dataset.dropna(axis = 0,how = 'any',thresh = None).drop_duplicates(subset=None) #removing NaN's and converting to numpy.\n",
    "names = np.squeeze(np.asarray(df))"
   ]
  },
  {
   "cell_type": "code",
   "execution_count": 75,
   "metadata": {},
   "outputs": [
    {
     "data": {
      "text/plain": [
       "957812"
      ]
     },
     "execution_count": 75,
     "metadata": {},
     "output_type": "execute_result"
    }
   ],
   "source": [
    "len(names)"
   ]
  },
  {
   "cell_type": "code",
   "execution_count": 76,
   "metadata": {},
   "outputs": [
    {
     "data": {
      "text/plain": [
       "'Coldplay'"
      ]
     },
     "execution_count": 76,
     "metadata": {},
     "output_type": "execute_result"
    }
   ],
   "source": [
    "names[0]"
   ]
  },
  {
   "cell_type": "markdown",
   "metadata": {},
   "source": [
    "### Clearing, part 2\n",
    "We will now remove all those names using non-standard characters. What I mean by non-standard is all those characters not being latin ones, nor punctuation ones, nor digits, nor spaces. For instance, we will get rid of those using chinese characters or greek letters.\n",
    "\n",
    "If we try applying the .isalnum() method, we quickly run into trouble as these non-latin characters return True. We need to come up with a solution. One way around this is by using the string module. With it, the string.printable characters are those we want to allow in our names, therefore we make a set out of them, which will be used against the names of the database in a loop."
   ]
  },
  {
   "cell_type": "code",
   "execution_count": 77,
   "metadata": {},
   "outputs": [
    {
     "name": "stdout",
     "output_type": "stream",
     "text": [
      "{'s', 'W', 'J', '<', 'w', 'K', '}', 'u', 'f', '\\\\', '3', '\\n', 'q', 'c', 'E', '7', 'A', 'B', 'Z', 'M', 'h', '*', 'o', 'T', '#', ' ', ']', 'j', '=', 'I', 'G', '&', '/', 'r', '\\x0c', '^', '|', 'n', 'm', '\\t', '6', 'i', 'P', 't', 'L', '[', '9', '4', 'H', 'a', ':', '5', 'v', 'V', 'O', 'd', '!', 'D', '2', 'U', '?', 'x', 'p', \"'\", '`', '$', '1', 'y', 'b', 'N', '\\x0b', 'Q', 'X', '8', ')', '\\r', 'Y', 'C', 'S', '-', ',', '.', 'e', 'F', '{', 'g', '\"', '~', 'l', '_', ';', 'k', '>', 'z', '0', '(', '+', 'R', '%', '@'}\n"
     ]
    }
   ],
   "source": [
    "validchars = {}\n",
    "validchars[0] = set(string.printable)\n",
    "print(validchars[0])"
   ]
  },
  {
   "cell_type": "markdown",
   "metadata": {},
   "source": [
    "Now comes the loop. An initial approach was creating a new object, a numpy array, to which we would append each valid name, therefore discarding the rest of the names with invalid characters. However, the appending operation makes the algorithm take exponential time of completion. Instead, we can save the index of each invalid word in a list, which we then feed to the np.delete() function to remove those entries of the \"names\" array"
   ]
  },
  {
   "cell_type": "code",
   "execution_count": 78,
   "metadata": {},
   "outputs": [],
   "source": [
    "clearedlist = {}\n",
    "def deletechars(validcharacters, listofnames, verbose=False):  # We define it within a function, as we will need it in the next steps\n",
    "    i = 0 # counts each iteration\n",
    "    j = 0 # counts each invalid word\n",
    "    deletelist= []\n",
    "    for name in listofnames:\n",
    "        if not all(char in validcharacters for char in name):\n",
    "            deletelist.append(i)\n",
    "            if j%10000 == 0 and verbose:\n",
    "                print(\"invalid: \" + name)\n",
    "            j += 1\n",
    "        i += 1\n",
    "        if i%50000 == 0 and verbose:\n",
    "            print(str(i) + \" cases inspected.\")\n",
    "    return np.delete(listofnames, deletelist)\n",
    "\n",
    "clearedlist[0] = deletechars(validchars[0], names) #by default, verbose = False (no output)"
   ]
  },
  {
   "cell_type": "code",
   "execution_count": 79,
   "metadata": {},
   "outputs": [
    {
     "data": {
      "text/plain": [
       "array(['Coldplay', 'Radiohead', 'Red Hot Chili Peppers', 'Rihanna',\n",
       "       'Eminem', 'The Killers', 'Kanye West', 'Nirvana', 'Muse', 'Queen',\n",
       "       'Foo Fighters', 'Linkin Park', 'Lady Gaga', 'The Rolling Stones',\n",
       "       'Daft Punk', 'Green Day', 'Katy Perry', 'The Beatles', 'Oasis',\n",
       "       'Gorillaz', 'Michael Jackson', 'Maroon 5'], dtype=object)"
      ]
     },
     "execution_count": 79,
     "metadata": {},
     "output_type": "execute_result"
    }
   ],
   "source": [
    "clearedlist[0][0:22] # Check that Beyoncé has been correctly removed."
   ]
  },
  {
   "cell_type": "code",
   "execution_count": 80,
   "metadata": {},
   "outputs": [],
   "source": [
    "np.savetxt(\"clearlists/clearedlist1.csv\", clearedlist[0], delimiter=\",\", fmt='%s') #save the list to a csv file."
   ]
  },
  {
   "cell_type": "markdown",
   "metadata": {},
   "source": [
    "### Clearing, part 3: choose your own adventure\n",
    "We will now distinguish four different cases which can be studied, with decreasing complexity. \n",
    "1. The full list, as is.\n",
    "2. The list, having removed punctuation characters and digits.\n",
    "3. The list, having removed both punctuation characters, digits and names with more than two words.\n",
    "4. The list, having removed both punctuation characters, digits and names with more than one word.\n",
    "\n",
    "Case 2 is easy to implement, just applying the previously defined deletechars() function, specifying punctuation characters as invalid (allowing whitespaces). Case 4 is also straightforward to implement, as string.ascii_letters considers any whitespace invalid. Case 3 entails splitting each name using a \"space\" delimiter, and then discarding them lengthwise."
   ]
  },
  {
   "cell_type": "code",
   "execution_count": 81,
   "metadata": {},
   "outputs": [],
   "source": [
    "case = 4 #change to whichever of the above\n",
    "verbose = False"
   ]
  },
  {
   "cell_type": "code",
   "execution_count": 82,
   "metadata": {},
   "outputs": [
    {
     "name": "stdout",
     "output_type": "stream",
     "text": [
      "(957812, 861756, 743526, 626581, 169167)\n",
      "['Coldplay' 'Radiohead' 'Rihanna' 'Eminem' 'The Killers' 'Kanye West'\n",
      " 'Nirvana' 'Muse' 'Queen' 'Foo Fighters' 'Linkin Park' 'Lady Gaga'\n",
      " 'Daft Punk' 'Green Day' 'Katy Perry' 'The Beatles' 'Oasis' 'Gorillaz'\n",
      " 'Michael Jackson' 'Arctic Monkeys' 'Drake' 'David Bowie']\n"
     ]
    }
   ],
   "source": [
    "validchars[1] = set(string.ascii_letters).union(\" \")\n",
    "validchars[2] = set(string.ascii_letters).union(\" \") #we won't use it here, but we will count the characters with this.\n",
    "validchars[3] = set(string.ascii_letters)\n",
    "\n",
    "clearedlist[1] = []\n",
    "clearedlist[2] = []\n",
    "clearedlist[3] = []\n",
    "\n",
    "if (case == 2 or case == 3 or case == 4):\n",
    "    clearedlist[1] = deletechars(validchars[1], clearedlist[0])\n",
    "    np.savetxt(\"clearlists/clearedlist2.csv\", clearedlist[1], delimiter=\",\", fmt='%s')\n",
    "    \n",
    "    if (case == 3 or case == 4): #as the function above, but indexing based on the length of string.split()\n",
    "        i = 0 \n",
    "        j = 0 \n",
    "        deletelist = []\n",
    "        for name in clearedlist[1]:\n",
    "            if len(name.split()) > 2:\n",
    "                deletelist.append(i)\n",
    "                if j%10000 == 0 and verbose:\n",
    "                    print(\"invalid: \" + name)\n",
    "                j += 1\n",
    "            i += 1\n",
    "            if i%50000 == 0 and verbose:\n",
    "                print(str(i) + \" cases inspected (lengthwise).\")\n",
    "        clearedlist[2] = np.delete(clearedlist[1], deletelist)\n",
    "        np.savetxt(\"clearlists/clearedlist3.csv\", clearedlist[2], delimiter=\",\", fmt='%s') \n",
    "        \n",
    "        if case == 4: # string.ascii_letters considers whitespaces as invalid.\n",
    "            clearedlist[3] = deletechars(validchars[3], clearedlist[2])\n",
    "            np.savetxt(\"clearlists/clearedlist4.csv\", clearedlist[3], delimiter=\",\", fmt='%s')\n",
    "\n",
    "print((len(names), len(clearedlist[0]), len(clearedlist[1]), len(clearedlist[2]), len(clearedlist[3])))\n",
    "print(clearedlist[2][0:22])"
   ]
  },
  {
   "cell_type": "markdown",
   "metadata": {},
   "source": [
    "### Some more pre-processing, I guess\n",
    "\n",
    "Now that we have our desired array of names, we need to prepare them for being inputted to a neural network. There are several steps to be taken: first, \n",
    "we will append to each name a \"\\n\" character: this will be our end-of-name character. We will later make all names lowercase, so as to use a dimensionally smaller encoding. Then, making use of the char_to_index dictionary and the keras.utils.to_categorical() function, we will create our one-hot vectors\n"
   ]
  },
  {
   "cell_type": "code",
   "execution_count": 83,
   "metadata": {},
   "outputs": [],
   "source": [
    "data = clearedlist[case-1][0:int(round(len(clearedlist[case-1])/10))] #definitive list of names\n",
    "m = len(data) #training examples\n",
    "\n",
    "for i in range(m):\n",
    "    data[i] = data[i].lower()"
   ]
  },
  {
   "cell_type": "code",
   "execution_count": 84,
   "metadata": {},
   "outputs": [],
   "source": [
    "for i in range(len(data)):\n",
    "    data[i] = data[i] + '\\n'"
   ]
  },
  {
   "cell_type": "code",
   "execution_count": 85,
   "metadata": {},
   "outputs": [
    {
     "data": {
      "text/plain": [
       "'radiohead\\n'"
      ]
     },
     "execution_count": 85,
     "metadata": {},
     "output_type": "execute_result"
    }
   ],
   "source": [
    "data[1]"
   ]
  },
  {
   "cell_type": "code",
   "execution_count": 86,
   "metadata": {},
   "outputs": [
    {
     "name": "stdout",
     "output_type": "stream",
     "text": [
      "26\n"
     ]
    }
   ],
   "source": [
    "max_char = len(max(data, key=len))\n",
    "print(max_char)"
   ]
  },
  {
   "cell_type": "code",
   "execution_count": 87,
   "metadata": {},
   "outputs": [
    {
     "name": "stdout",
     "output_type": "stream",
     "text": [
      "27\n"
     ]
    }
   ],
   "source": [
    "characters = validchars[case-1].union('\\n')\n",
    "chars = sorted(list(dict.fromkeys([char.lower() for char in characters])))\n",
    "numchars = len(chars)\n",
    "\n",
    "print(numchars)"
   ]
  },
  {
   "cell_type": "code",
   "execution_count": 88,
   "metadata": {},
   "outputs": [
    {
     "name": "stdout",
     "output_type": "stream",
     "text": [
      "{'\\n': 0, 'a': 1, 'b': 2, 'c': 3, 'd': 4, 'e': 5, 'f': 6, 'g': 7, 'h': 8, 'i': 9, 'j': 10, 'k': 11, 'l': 12, 'm': 13, 'n': 14, 'o': 15, 'p': 16, 'q': 17, 'r': 18, 's': 19, 't': 20, 'u': 21, 'v': 22, 'w': 23, 'x': 24, 'y': 25, 'z': 26}\n",
      "{0: '\\n', 1: 'a', 2: 'b', 3: 'c', 4: 'd', 5: 'e', 6: 'f', 7: 'g', 8: 'h', 9: 'i', 10: 'j', 11: 'k', 12: 'l', 13: 'm', 14: 'n', 15: 'o', 16: 'p', 17: 'q', 18: 'r', 19: 's', 20: 't', 21: 'u', 22: 'v', 23: 'w', 24: 'x', 25: 'y', 26: 'z'}\n"
     ]
    }
   ],
   "source": [
    "char_to_index = { ch:ix for ix, ch in enumerate(chars)} #assigns numbers to characters.\n",
    "index_to_char = { ix:ch for ix, ch in enumerate(chars)} #assigns numbers to characters.\n",
    "\n",
    "print(char_to_index)\n",
    "print(index_to_char)"
   ]
  },
  {
   "cell_type": "code",
   "execution_count": 89,
   "metadata": {},
   "outputs": [
    {
     "name": "stdout",
     "output_type": "stream",
     "text": [
      "(16917, 26, 27)\n"
     ]
    }
   ],
   "source": [
    "print((m,max_char,numchars))"
   ]
  },
  {
   "cell_type": "code",
   "execution_count": 90,
   "metadata": {},
   "outputs": [],
   "source": [
    "X = np.zeros((m, max_char, numchars))\n",
    "Y = np.zeros((m, max_char, numchars))\n",
    "\n",
    "for i in range(m):\n",
    "    name = list(data[i])\n",
    "    for j in range(len(name)):\n",
    "        X[i, j, char_to_index[name[j]]] = 1\n",
    "        if j < len(name)-1:\n",
    "            Y[i, j, char_to_index[name[j+1]]] = 1"
   ]
  },
  {
   "cell_type": "markdown",
   "metadata": {},
   "source": [
    "### Bringing Keras to the game: Sequential model.\n",
    "\n",
    "We will finally introduce our friend Keras. As for the training/dev/test split, we're just not going to consider it. It's not like this has some application behind my own enjoyment, therefore the whole set goes to training."
   ]
  },
  {
   "cell_type": "code",
   "execution_count": 91,
   "metadata": {},
   "outputs": [],
   "source": [
    "model = Sequential()\n",
    "model.add(LSTM(128, input_shape=(max_char, numchars), return_sequences=True))\n",
    "model.add(Dense(numchars, activation='softmax'))\n",
    "\n",
    "model.compile(loss='categorical_crossentropy', optimizer='adam')"
   ]
  },
  {
   "cell_type": "code",
   "execution_count": 92,
   "metadata": {},
   "outputs": [],
   "source": [
    "def make_name(model): #name generator using the model's weight's current prediction\n",
    "    name = []\n",
    "    x = np.zeros((1, max_char, numchars))\n",
    "    end = False\n",
    "    i = 0\n",
    "    \n",
    "    while end==False:\n",
    "        probs = list(model.predict(x)[0,i])\n",
    "        probs = probs / np.sum(probs)\n",
    "        index = np.random.choice(range(numchars), p=probs)\n",
    "        if i == max_char-2:\n",
    "            character = '\\n'\n",
    "            end = True\n",
    "        else:\n",
    "            character = index_to_char[index]\n",
    "        name.append(character)\n",
    "        x[0, i+1, index] = 1\n",
    "        i += 1\n",
    "        if character == '\\n':\n",
    "            end = True\n",
    "    \n",
    "    \n",
    "    print(''.join(name))\n",
    "    \n",
    "    name = ''.join(name[0:-1])\n",
    "    \n",
    "    return name"
   ]
  },
  {
   "cell_type": "code",
   "execution_count": 93,
   "metadata": {},
   "outputs": [],
   "source": [
    "def generate_name_loop(epoch, _): # generate 3 names every 15 epochs\n",
    "    if epoch % 15 == 0:\n",
    "        \n",
    "        print('\\nNames generated after epoch %d:' % epoch)\n",
    "\n",
    "        for i in range(3):\n",
    "            make_name(model)\n",
    "        \n",
    "        print()"
   ]
  },
  {
   "cell_type": "markdown",
   "metadata": {},
   "source": [
    "#### Callbacks\n",
    "\n",
    "We will be adding two callbacks to the model: these are operations executed after each epoch. The first one is ModelCheckpoint, which will check if the model has improved, and if so it will save the recently computed weights to a file (=filepath). The second one is LambdaCallback, which allows us to specify our own function to be executed after each epoch, in this case we will use the generate_name_loop() function to predict 3 names after 15 epochs have occured. "
   ]
  },
  {
   "cell_type": "code",
   "execution_count": 94,
   "metadata": {},
   "outputs": [],
   "source": [
    "filepath=\"checkpoints/weights-improvement-{epoch:02d}.hdf5\"\n",
    "checkpoint = ModelCheckpoint(filepath, monitor='loss', verbose=0, save_best_only=True, mode='min')\n",
    "name_generator = LambdaCallback(on_epoch_end = generate_name_loop)\n",
    "callbacks_list = [checkpoint, name_generator]"
   ]
  },
  {
   "cell_type": "code",
   "execution_count": 95,
   "metadata": {},
   "outputs": [
    {
     "name": "stdout",
     "output_type": "stream",
     "text": [
      "Epoch 1/51\n",
      "34/34 [==============================] - ETA: 0s - loss: 0.8194\n",
      "Names generated after epoch 0:\n",
      "gzffm\n",
      "\n",
      "\n",
      "\n",
      "emaes\n",
      "\n",
      "\n",
      "34/34 [==============================] - 6s 167ms/step - loss: 0.8194\n",
      "Epoch 2/51\n",
      "34/34 [==============================] - 4s 110ms/step - loss: 0.7638\n",
      "Epoch 3/51\n",
      "34/34 [==============================] - 4s 122ms/step - loss: 0.7502\n",
      "Epoch 4/51\n",
      "34/34 [==============================] - 4s 127ms/step - loss: 0.7386\n",
      "Epoch 5/51\n",
      "34/34 [==============================] - 4s 120ms/step - loss: 0.7218\n",
      "Epoch 6/51\n",
      "34/34 [==============================] - 4s 120ms/step - loss: 0.7016\n",
      "Epoch 7/51\n",
      "34/34 [==============================] - 4s 126ms/step - loss: 0.6866\n",
      "Epoch 8/51\n",
      "34/34 [==============================] - 4s 119ms/step - loss: 0.6767\n",
      "Epoch 9/51\n",
      "34/34 [==============================] - 4s 119ms/step - loss: 0.6698\n",
      "Epoch 10/51\n",
      "34/34 [==============================] - 4s 120ms/step - loss: 0.6645\n",
      "Epoch 11/51\n",
      "34/34 [==============================] - 4s 119ms/step - loss: 0.6603\n",
      "Epoch 12/51\n",
      "34/34 [==============================] - 4s 120ms/step - loss: 0.6563\n",
      "Epoch 13/51\n",
      "34/34 [==============================] - 4s 119ms/step - loss: 0.6531\n",
      "Epoch 14/51\n",
      "34/34 [==============================] - 4s 119ms/step - loss: 0.6507\n",
      "Epoch 15/51\n",
      "34/34 [==============================] - 4s 119ms/step - loss: 0.6483\n",
      "Epoch 16/51\n",
      "33/34 [============================>.] - ETA: 0s - loss: 0.6455\n",
      "Names generated after epoch 15:\n",
      "athajd\n",
      "\n",
      "fra\n",
      "\n",
      "master\n",
      "\n",
      "\n",
      "34/34 [==============================] - 5s 141ms/step - loss: 0.6456\n",
      "Epoch 17/51\n",
      "34/34 [==============================] - 4s 125ms/step - loss: 0.6435\n",
      "Epoch 18/51\n",
      "34/34 [==============================] - 4s 121ms/step - loss: 0.6413\n",
      "Epoch 19/51\n",
      "34/34 [==============================] - 4s 119ms/step - loss: 0.6399\n",
      "Epoch 20/51\n",
      "34/34 [==============================] - 4s 119ms/step - loss: 0.6379\n",
      "Epoch 21/51\n",
      "34/34 [==============================] - 4s 119ms/step - loss: 0.6360\n",
      "Epoch 22/51\n",
      "34/34 [==============================] - 4s 119ms/step - loss: 0.6345\n",
      "Epoch 23/51\n",
      "34/34 [==============================] - 4s 119ms/step - loss: 0.6334\n",
      "Epoch 24/51\n",
      "34/34 [==============================] - 4s 120ms/step - loss: 0.6315\n",
      "Epoch 25/51\n",
      "34/34 [==============================] - 4s 120ms/step - loss: 0.6303\n",
      "Epoch 26/51\n",
      "34/34 [==============================] - 4s 119ms/step - loss: 0.6289\n",
      "Epoch 27/51\n",
      "34/34 [==============================] - 4s 120ms/step - loss: 0.6277\n",
      "Epoch 28/51\n",
      "34/34 [==============================] - 4s 120ms/step - loss: 0.6263\n",
      "Epoch 29/51\n",
      "34/34 [==============================] - 4s 121ms/step - loss: 0.6252\n",
      "Epoch 30/51\n",
      "34/34 [==============================] - 4s 120ms/step - loss: 0.6239\n",
      "Epoch 31/51\n",
      "33/34 [============================>.] - ETA: 0s - loss: 0.6229\n",
      "Names generated after epoch 30:\n",
      "adllon\n",
      "\n",
      "xarneq\n",
      "\n",
      "kad\n",
      "\n",
      "\n",
      "34/34 [==============================] - 5s 139ms/step - loss: 0.6229\n",
      "Epoch 32/51\n",
      "34/34 [==============================] - 4s 120ms/step - loss: 0.6219\n",
      "Epoch 33/51\n",
      "34/34 [==============================] - 4s 120ms/step - loss: 0.6205\n",
      "Epoch 34/51\n",
      "34/34 [==============================] - 4s 123ms/step - loss: 0.6194\n",
      "Epoch 35/51\n",
      "34/34 [==============================] - 4s 120ms/step - loss: 0.6183\n",
      "Epoch 36/51\n",
      "34/34 [==============================] - 4s 123ms/step - loss: 0.6173\n",
      "Epoch 37/51\n",
      "34/34 [==============================] - 4s 120ms/step - loss: 0.6165\n",
      "Epoch 38/51\n",
      "34/34 [==============================] - 4s 120ms/step - loss: 0.6153\n",
      "Epoch 39/51\n",
      "34/34 [==============================] - 4s 121ms/step - loss: 0.6143\n",
      "Epoch 40/51\n",
      "34/34 [==============================] - 4s 120ms/step - loss: 0.6133\n",
      "Epoch 41/51\n",
      "34/34 [==============================] - 4s 125ms/step - loss: 0.6124\n",
      "Epoch 42/51\n",
      "34/34 [==============================] - 5s 134ms/step - loss: 0.6115\n",
      "Epoch 43/51\n",
      "34/34 [==============================] - 4s 129ms/step - loss: 0.6107\n",
      "Epoch 44/51\n",
      "34/34 [==============================] - 4s 126ms/step - loss: 0.6098\n",
      "Epoch 45/51\n",
      "34/34 [==============================] - 4s 127ms/step - loss: 0.6087\n",
      "Epoch 46/51\n",
      "33/34 [============================>.] - ETA: 0s - loss: 0.6083\n",
      "Names generated after epoch 45:\n",
      "ento\n",
      "\n",
      "mur\n",
      "\n",
      "tompu\n",
      "\n",
      "\n",
      "34/34 [==============================] - 5s 148ms/step - loss: 0.6082\n",
      "Epoch 47/51\n",
      "34/34 [==============================] - 4s 119ms/step - loss: 0.6067\n",
      "Epoch 48/51\n",
      "34/34 [==============================] - 4s 120ms/step - loss: 0.6056\n",
      "Epoch 49/51\n",
      "34/34 [==============================] - 4s 119ms/step - loss: 0.6059\n",
      "Epoch 50/51\n",
      "34/34 [==============================] - 4s 120ms/step - loss: 0.6046\n",
      "Epoch 51/51\n",
      "34/34 [==============================] - 4s 122ms/step - loss: 0.6035\n"
     ]
    }
   ],
   "source": [
    "history = model.fit(X, Y, batch_size=512, epochs=51, callbacks = callbacks_list, verbose=1)"
   ]
  },
  {
   "cell_type": "code",
   "execution_count": 70,
   "metadata": {},
   "outputs": [],
   "source": [
    "model.save(f'finalmodels/model_case{case}.hdf5')"
   ]
  },
  {
   "cell_type": "markdown",
   "metadata": {},
   "source": [
    "### Using the model\n",
    "\n",
    "We can now generate some names, we will write 5 of them to files corresponding to each case. We will also plot the loss of our model, although it will not give us much information due to the nature of the task."
   ]
  },
  {
   "cell_type": "code",
   "execution_count": 97,
   "metadata": {},
   "outputs": [
    {
     "name": "stdout",
     "output_type": "stream",
     "text": [
      "pongay\n",
      "\n"
     ]
    },
    {
     "data": {
      "text/plain": [
       "'pongay'"
      ]
     },
     "execution_count": 97,
     "metadata": {},
     "output_type": "execute_result"
    }
   ],
   "source": [
    "make_name(model)"
   ]
  },
  {
   "cell_type": "code",
   "execution_count": 100,
   "metadata": {},
   "outputs": [
    {
     "name": "stdout",
     "output_type": "stream",
     "text": [
      "yspurto\n",
      "\n",
      "ullekting\n",
      "\n",
      "ormp\n",
      "\n",
      "ingwall\n",
      "\n",
      "londiss\n",
      "\n"
     ]
    }
   ],
   "source": [
    "file_names = open(f'generatednames/names_case{case}.txt','w')\n",
    "for i in range(5):\n",
    "    file_names.write(str(make_name(model)) +  \"\\n\")\n",
    "file_names.close() "
   ]
  },
  {
   "cell_type": "code",
   "execution_count": 101,
   "metadata": {},
   "outputs": [
    {
     "name": "stdout",
     "output_type": "stream",
     "text": [
      "dict_keys(['loss'])\n"
     ]
    }
   ],
   "source": [
    "print(history.history.keys())"
   ]
  },
  {
   "cell_type": "code",
   "execution_count": 102,
   "metadata": {},
   "outputs": [
    {
     "data": {
      "image/png": "[encoded data removed]",
      "text/plain": [
       "<Figure size 432x288 with 1 Axes>"
      ]
     },
     "metadata": {
      "needs_background": "light"
     },
     "output_type": "display_data"
    }
   ],
   "source": [
    "# summarize history for loss\n",
    "plt.plot(history.history['loss'])\n",
    "plt.title('Model loss')\n",
    "plt.ylabel('Loss')\n",
    "plt.xlabel('Epoch')\n",
    "plt.legend(['Training'], loc='upper right')\n",
    "plt.show()"
   ]
  },
  {
   "cell_type": "markdown",
   "metadata": {},
   "source": [
    "### Saving and loading variables for other sessions\n",
    "\n",
    "If we want to generate new names with previously computed models, we need both the weights .hdf5 file (stored in the checkpoints/ folder), and some of the variables created throughout this notebook, which we will save using the pickle module:"
   ]
  },
  {
   "cell_type": "code",
   "execution_count": 106,
   "metadata": {},
   "outputs": [],
   "source": [
    "def save_obj(obj, name ): # function saving the variable obj in a file called \"name.pkl\", within the variables/ folder\n",
    "    with open(f'variables/case{case}/'+ name + '.pkl', 'wb') as f:\n",
    "        pickle.dump(obj, f, pickle.HIGHEST_PROTOCOL)\n",
    "\n",
    "def load_obj(name ): # function retrieving the variable stored in \"variables/name.pkl\"\n",
    "    with open(f'variables/case{case}/' + name + '.pkl', 'rb') as f:\n",
    "        return pickle.load(f)"
   ]
  },
  {
   "cell_type": "code",
   "execution_count": 107,
   "metadata": {},
   "outputs": [],
   "source": [
    "save_obj(validchars, \"validchars\")\n",
    "save_obj(m, \"m\")\n",
    "save_obj(max_char, \"max_char\")\n",
    "save_obj(numchars, \"numchars\")\n",
    "save_obj(char_to_index, \"char_to_index\")\n",
    "save_obj(index_to_char, \"index_to_char\")"
   ]
  },
  {
   "cell_type": "code",
   "execution_count": 110,
   "metadata": {},
   "outputs": [],
   "source": [
    "model =load_model(f'finalmodels/model_case{case}.hdf5')"
   ]
  },
  {
   "cell_type": "code",
   "execution_count": 111,
   "metadata": {},
   "outputs": [],
   "source": [
    "validchars = load_obj(\"validchars\")\n",
    "m = load_obj(\"m\")\n",
    "max_char = load_obj(\"max_char\")\n",
    "numchars = load_obj(\"numchars\")\n",
    "char_to_index = load_obj(\"char_to_index\")\n",
    "index_to_char = load_obj(\"index_to_char\")"
   ]
  },
  {
   "cell_type": "code",
   "execution_count": 112,
   "metadata": {},
   "outputs": [
    {
     "name": "stdout",
     "output_type": "stream",
     "text": [
      "czksspmvlzrgpdqarnfoqdqd\n",
      "\n"
     ]
    }
   ],
   "source": [
    "newname = make_name(model) #check that the variable loading works (only running cell #1 and the make_name cell, along with the two previous ones)"
   ]
  },
  {
   "cell_type": "code",
   "execution_count": null,
   "metadata": {},
   "outputs": [],
   "source": []
  }
 ],
 "metadata": {
  "kernelspec": {
   "display_name": "Python 3",
   "language": "python",
   "name": "python3"
  },
  "language_info": {
   "codemirror_mode": {
    "name": "ipython",
    "version": 3
   },
   "file_extension": ".py",
   "mimetype": "text/x-python",
   "name": "python",
   "nbconvert_exporter": "python",
   "pygments_lexer": "ipython3",
   "version": "3.8.3"
  }
 },
 "nbformat": 4,
 "nbformat_minor": 4
}
